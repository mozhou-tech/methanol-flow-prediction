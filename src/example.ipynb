{
 "cells": [
  {
   "cell_type": "code",
   "execution_count": 3,
   "metadata": {
    "ExecuteTime": {
     "end_time": "2023-07-19T06:28:57.689051Z",
     "start_time": "2023-07-19T06:28:57.683001Z"
    }
   },
   "outputs": [],
   "source": [
    "import pandas as pd\n",
    "df = pd.read_excel(\"../datasets/flowspeeds.xlsx\")"
   ]
  },
  {
   "cell_type": "code",
   "execution_count": 4,
   "metadata": {},
   "outputs": [
    {
     "name": "stdout",
     "output_type": "stream",
     "text": [
      "       INDEX                TIME  154_FT_101.PV\n",
      "0          1 2023-05-01 00:00:00        101.094\n",
      "1          2 2023-05-01 00:01:00        101.979\n",
      "2          3 2023-05-01 00:02:00        103.903\n",
      "3          4 2023-05-01 00:03:00        103.292\n",
      "4          5 2023-05-01 00:04:00        102.811\n",
      "...      ...                 ...            ...\n",
      "41755  41756 2023-05-29 23:55:00        115.459\n",
      "41756  41757 2023-05-29 23:56:00        114.816\n",
      "41757  41758 2023-05-29 23:57:00        115.668\n",
      "41758  41759 2023-05-29 23:58:00        114.803\n",
      "41759  41760 2023-05-29 23:59:00        117.052\n",
      "\n",
      "[41760 rows x 3 columns]\n"
     ]
    }
   ],
   "source": [
    "print(df)"
   ]
  }
 ],
 "metadata": {
  "kernelspec": {
   "display_name": "Python 3 (ipykernel)",
   "language": "python",
   "name": "python3"
  },
  "language_info": {
   "codemirror_mode": {
    "name": "ipython",
    "version": 3
   },
   "file_extension": ".py",
   "mimetype": "text/x-python",
   "name": "python",
   "nbconvert_exporter": "python",
   "pygments_lexer": "ipython3",
   "version": "3.10.9"
  }
 },
 "nbformat": 4,
 "nbformat_minor": 1
}
