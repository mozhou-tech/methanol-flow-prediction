{
 "cells": [
  {
   "cell_type": "markdown",
   "source": [
    "数据预处理"
   ],
   "metadata": {
    "collapsed": false
   }
  },
  {
   "cell_type": "code",
   "execution_count": 9,
   "outputs": [],
   "source": [
    "import pandas as pd\n",
    "\n",
    "df4 = pd.read_csv(\"../datasets/mfp/april-flowspeed.csv\", index_col=\"t\",parse_dates=True)\n",
    "df5 = pd.read_excel(\"../datasets/mfp/flowspeeds.xlsx\", index_col=\"t\",parse_dates=True)\n",
    "new_df = pd.concat([df4, df5])"
   ],
   "metadata": {
    "collapsed": false,
    "ExecuteTime": {
     "end_time": "2023-08-01T09:46:45.486302Z",
     "start_time": "2023-08-01T09:46:44.817408Z"
    }
   }
  },
  {
   "cell_type": "code",
   "execution_count": 10,
   "outputs": [],
   "source": [
    "new_df.to_csv(\"../datasets/mfp/train_data.csv\")"
   ],
   "metadata": {
    "collapsed": false,
    "ExecuteTime": {
     "end_time": "2023-08-01T09:46:45.606258Z",
     "start_time": "2023-08-01T09:46:45.487191Z"
    }
   }
  },
  {
   "cell_type": "code",
   "execution_count": 11,
   "outputs": [
    {
     "data": {
      "text/plain": "                           v\nt                           \n2023-04-01 00:00:00  100.211\n2023-04-01 00:01:00  100.991\n2023-04-01 00:02:00  101.731\n2023-04-01 00:03:00  101.771\n2023-04-01 00:04:00  102.914\n...                      ...\n2023-05-29 23:55:00  115.459\n2023-05-29 23:56:00  114.816\n2023-05-29 23:57:00  115.668\n2023-05-29 23:58:00  114.803\n2023-05-29 23:59:00  117.052\n\n[83520 rows x 1 columns]",
      "text/html": "<div>\n<style scoped>\n    .dataframe tbody tr th:only-of-type {\n        vertical-align: middle;\n    }\n\n    .dataframe tbody tr th {\n        vertical-align: top;\n    }\n\n    .dataframe thead th {\n        text-align: right;\n    }\n</style>\n<table border=\"1\" class=\"dataframe\">\n  <thead>\n    <tr style=\"text-align: right;\">\n      <th></th>\n      <th>v</th>\n    </tr>\n    <tr>\n      <th>t</th>\n      <th></th>\n    </tr>\n  </thead>\n  <tbody>\n    <tr>\n      <th>2023-04-01 00:00:00</th>\n      <td>100.211</td>\n    </tr>\n    <tr>\n      <th>2023-04-01 00:01:00</th>\n      <td>100.991</td>\n    </tr>\n    <tr>\n      <th>2023-04-01 00:02:00</th>\n      <td>101.731</td>\n    </tr>\n    <tr>\n      <th>2023-04-01 00:03:00</th>\n      <td>101.771</td>\n    </tr>\n    <tr>\n      <th>2023-04-01 00:04:00</th>\n      <td>102.914</td>\n    </tr>\n    <tr>\n      <th>...</th>\n      <td>...</td>\n    </tr>\n    <tr>\n      <th>2023-05-29 23:55:00</th>\n      <td>115.459</td>\n    </tr>\n    <tr>\n      <th>2023-05-29 23:56:00</th>\n      <td>114.816</td>\n    </tr>\n    <tr>\n      <th>2023-05-29 23:57:00</th>\n      <td>115.668</td>\n    </tr>\n    <tr>\n      <th>2023-05-29 23:58:00</th>\n      <td>114.803</td>\n    </tr>\n    <tr>\n      <th>2023-05-29 23:59:00</th>\n      <td>117.052</td>\n    </tr>\n  </tbody>\n</table>\n<p>83520 rows × 1 columns</p>\n</div>"
     },
     "execution_count": 11,
     "metadata": {},
     "output_type": "execute_result"
    }
   ],
   "source": [
    "new_df"
   ],
   "metadata": {
    "collapsed": false,
    "ExecuteTime": {
     "end_time": "2023-08-01T09:46:45.610552Z",
     "start_time": "2023-08-01T09:46:45.608858Z"
    }
   }
  },
  {
   "cell_type": "code",
   "execution_count": 11,
   "outputs": [],
   "source": [],
   "metadata": {
    "collapsed": false,
    "ExecuteTime": {
     "end_time": "2023-08-01T09:46:45.611968Z",
     "start_time": "2023-08-01T09:46:45.610785Z"
    }
   }
  }
 ],
 "metadata": {
  "kernelspec": {
   "display_name": "Python 3",
   "language": "python",
   "name": "python3"
  },
  "language_info": {
   "codemirror_mode": {
    "name": "ipython",
    "version": 2
   },
   "file_extension": ".py",
   "mimetype": "text/x-python",
   "name": "python",
   "nbconvert_exporter": "python",
   "pygments_lexer": "ipython2",
   "version": "2.7.6"
  }
 },
 "nbformat": 4,
 "nbformat_minor": 0
}
