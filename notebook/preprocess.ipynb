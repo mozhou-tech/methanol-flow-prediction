{
 "cells": [
  {
   "cell_type": "markdown",
   "source": [
    "数据预处理"
   ],
   "metadata": {
    "collapsed": false
   }
  },
  {
   "cell_type": "code",
   "execution_count": 1,
   "outputs": [],
   "source": [
    "import pandas as pd\n",
    "import mylib\n",
    "import torch\n",
    "\n",
    "df = pd.read_excel(\"../datasets/flowspeeds.xlsx\")\n",
    "t = df['TIME']\n",
    "x = df[\"154_FT_101.PV\"]\n",
    "y = df[\"154_FT_101.PV\"].shift(1)"
   ],
   "metadata": {
    "collapsed": false,
    "ExecuteTime": {
     "end_time": "2023-07-20T09:22:44.549706Z",
     "start_time": "2023-07-20T09:22:42.743809Z"
    }
   }
  },
  {
   "cell_type": "code",
   "execution_count": 7,
   "outputs": [],
   "source": [
    "new_df = pd.DataFrame(\n",
    "    {\n",
    "        't': t,\n",
    "        'x': x,\n",
    "        'y': y\n",
    "    }\n",
    ")\n",
    "new_df= new_df.drop(0)\n",
    "new_df.to_csv(\"../datasets/mfp/train_data.csv\")"
   ],
   "metadata": {
    "collapsed": false,
    "ExecuteTime": {
     "end_time": "2023-07-20T09:26:30.487791Z",
     "start_time": "2023-07-20T09:26:30.396195Z"
    }
   }
  },
  {
   "cell_type": "code",
   "execution_count": null,
   "outputs": [],
   "source": [],
   "metadata": {
    "collapsed": false
   }
  }
 ],
 "metadata": {
  "kernelspec": {
   "display_name": "Python 3",
   "language": "python",
   "name": "python3"
  },
  "language_info": {
   "codemirror_mode": {
    "name": "ipython",
    "version": 2
   },
   "file_extension": ".py",
   "mimetype": "text/x-python",
   "name": "python",
   "nbconvert_exporter": "python",
   "pygments_lexer": "ipython2",
   "version": "2.7.6"
  }
 },
 "nbformat": 4,
 "nbformat_minor": 0
}
